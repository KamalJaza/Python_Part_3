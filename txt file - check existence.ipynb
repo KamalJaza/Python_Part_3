{
 "cells": [
  {
   "cell_type": "code",
   "execution_count": 3,
   "id": "bdeb4e83",
   "metadata": {},
   "outputs": [
    {
     "name": "stdout",
     "output_type": "stream",
     "text": [
      "say something?hello\n"
     ]
    }
   ],
   "source": [
    "import os \n",
    "\n",
    "if os.path.isfile('log.txt'):\n",
    "    writefile = open('log.txt','a')\n",
    "else:\n",
    "    writefile = open('log.txt','w')\n",
    "    \n",
    "tolog = input('say something?')\n",
    "writefile.write(tolog)\n",
    "writefile.close()"
   ]
  },
  {
   "cell_type": "code",
   "execution_count": 6,
   "id": "aa0ffdad",
   "metadata": {},
   "outputs": [
    {
     "data": {
      "text/plain": [
       "True"
      ]
     },
     "execution_count": 6,
     "metadata": {},
     "output_type": "execute_result"
    }
   ],
   "source": [
    "os.path.isfile('log.txt')"
   ]
  },
  {
   "cell_type": "code",
   "execution_count": null,
   "id": "b492e49e",
   "metadata": {},
   "outputs": [],
   "source": []
  }
 ],
 "metadata": {
  "kernelspec": {
   "display_name": "Python 3 (ipykernel)",
   "language": "python",
   "name": "python3"
  },
  "language_info": {
   "codemirror_mode": {
    "name": "ipython",
    "version": 3
   },
   "file_extension": ".py",
   "mimetype": "text/x-python",
   "name": "python",
   "nbconvert_exporter": "python",
   "pygments_lexer": "ipython3",
   "version": "3.7.9"
  }
 },
 "nbformat": 4,
 "nbformat_minor": 5
}
